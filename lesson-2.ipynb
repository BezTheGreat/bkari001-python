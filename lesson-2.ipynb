{
 "cells": [
  {
   "cell_type": "markdown",
   "metadata": {},
   "source": [
    "# Function the second lesson"
   ]
  },
  {
   "cell_type": "code",
   "execution_count": 1,
   "metadata": {},
   "outputs": [
    {
     "name": "stdout",
     "output_type": "stream",
     "text": [
      "You may say I'm a dreamer\n",
      "But I'm not the only one\n",
      "I hope some day you'll join us\n",
      "And the world will be as one\n",
      "You may say I'm a dreamer\n",
      "But I'm not the only one\n",
      "I hope some day you'll join us\n",
      "And the world will be as one\n"
     ]
    }
   ],
   "source": [
    "def sing_song():\n",
    "  print(\"You may say I'm a dreamer\")\n",
    "  print(\"But I'm not the only one\")\n",
    "  print(\"I hope some day you'll join us\")\n",
    "  print(\"And the world will be as one\")\n",
    "  \n",
    "# call sing_song() below:\n",
    "sing_song()\n",
    "sing_song()"
   ]
  },
  {
   "cell_type": "code",
   "execution_count": 2,
   "metadata": {},
   "outputs": [
    {
     "name": "stdout",
     "output_type": "stream",
     "text": [
      "This page is loading...\n"
     ]
    }
   ],
   "source": [
    "def loading_screen():\n",
    "  print('This page is loading...')\n",
    "loading_screen()\n",
    "\n"
   ]
  },
  {
   "cell_type": "code",
   "execution_count": 3,
   "metadata": {},
   "outputs": [
    {
     "name": "stdout",
     "output_type": "stream",
     "text": [
      "This is your desktop\n",
      "This computer is running on version Everest Puma\n"
     ]
    }
   ],
   "source": [
    "def about_this_computer():\n",
    "  print(\"This computer is running on version Everest Puma\")\n",
    "print(\"This is your desktop\")\n",
    "\n",
    "about_this_computer()\n",
    "\n"
   ]
  },
  {
   "cell_type": "code",
   "execution_count": 4,
   "metadata": {},
   "outputs": [
    {
     "name": "stdout",
     "output_type": "stream",
     "text": [
      "5\n",
      "13\n",
      "1\n",
      "3\n"
     ]
    }
   ],
   "source": [
    "def mult_two_add_three(number):\n",
    "  #number = 5\n",
    "  print(number*2 + 3)\n",
    "  \n",
    "# Call mult_two_add_three() here:\n",
    "#mult_two_add_three()\n",
    "mult_two_add_three(1)\n",
    "mult_two_add_three(5)\n",
    "mult_two_add_three(-1)\n",
    "mult_two_add_three(0)"
   ]
  },
  {
   "cell_type": "code",
   "execution_count": 5,
   "metadata": {},
   "outputs": [
    {
     "name": "stdout",
     "output_type": "stream",
     "text": [
      "13\n",
      "4\n"
     ]
    }
   ],
   "source": [
    "def mult_x_add_y(number, x, y):\n",
    "  print(number*x + y)\n",
    "mult_x_add_y(5, 2, 3)\n",
    "mult_x_add_y(1, 3, 1)"
   ]
  },
  {
   "cell_type": "code",
   "execution_count": 6,
   "metadata": {},
   "outputs": [
    {
     "name": "stdout",
     "output_type": "stream",
     "text": [
      "Creating a spreadsheet called Downloads with 1000 rows\n",
      "Creating a spreadsheet called Applications with 10 rows\n"
     ]
    }
   ],
   "source": [
    "# Define create_spreadsheet():\n",
    "def create_spreadsheet(title, row_count = 1000):\n",
    "  print(\"Creating a spreadsheet called \"+title + ' with ' + str(row_count) + ' rows')\n",
    "\n",
    "# Call create_spreadsheet() below with the required arguments:\n",
    "create_spreadsheet(\"Downloads\")\n",
    "create_spreadsheet('Applications', 10)"
   ]
  },
  {
   "cell_type": "code",
   "execution_count": 7,
   "metadata": {},
   "outputs": [
    {
     "name": "stdout",
     "output_type": "stream",
     "text": [
      " I am 56 years old and my dad is 96 years old\n"
     ]
    }
   ],
   "source": [
    "def calculate_age(current_year, birth_year):\n",
    "  age = current_year - birth_year\n",
    "  return age\n",
    "my_age = calculate_age(2049, 1993) \n",
    "dads_age = calculate_age(2049, 1953)\n",
    "print(' I am ' + str(my_age) + ' years old and my dad is ' + str(dads_age) + ' years old')"
   ]
  },
  {
   "cell_type": "code",
   "execution_count": 8,
   "metadata": {},
   "outputs": [
    {
     "name": "stdout",
     "output_type": "stream",
     "text": [
      "80\n",
      "120\n"
     ]
    }
   ],
   "source": [
    "def get_boundaries(target, margin):\n",
    "  low_limit = target - margin \n",
    "  high_limit = target + margin\n",
    "  return low_limit, high_limit\n",
    "low, high = get_boundaries(100, 20)\n",
    "print(low)\n",
    "print(high)"
   ]
  },
  {
   "cell_type": "code",
   "execution_count": 9,
   "metadata": {},
   "outputs": [
    {
     "name": "stdout",
     "output_type": "stream",
     "text": [
      "2048\n",
      "78\n"
     ]
    }
   ],
   "source": [
    "current_year = 2048\n",
    "def calculate_age(birth_year):\n",
    "  age = current_year - birth_year\n",
    "  return age\n",
    "print(current_year)\n",
    "print(calculate_age(1970))"
   ]
  },
  {
   "cell_type": "code",
   "execution_count": 10,
   "metadata": {},
   "outputs": [
    {
     "name": "stdout",
     "output_type": "stream",
     "text": [
      "Row Row Row Your Boat. Row Row Row Your Boat. Row Row Row Your Boat. Row Row Row Your Boat. Row Row Row Your Boat. Row Row Row Your Boat. Row Row Row Your Boat. Row Row Row Your Boat. Row Row Row Your Boat. Row Row Row Your Boat. \n"
     ]
    }
   ],
   "source": [
    "def repeat_stuff(stuff, num_repeats = 10):\n",
    "  \n",
    "  return stuff*num_repeats\n",
    "lyrics = repeat_stuff('Row ', 3) + 'Your Boat. '\n",
    "song = repeat_stuff(lyrics)\n",
    "print(song)"
   ]
  },
  {
   "cell_type": "markdown",
   "metadata": {},
   "source": [
    "# Getting ready for physics class- project"
   ]
  },
  {
   "cell_type": "code",
   "execution_count": 11,
   "metadata": {},
   "outputs": [
    {
     "name": "stdout",
     "output_type": "stream",
     "text": [
      "37.77777777777778\n",
      "32.0\n",
      "560.0\n",
      "The GE train supplies 560.0 Newtons of force\n",
      "300000000\n",
      "a 1kg bomb supplies 300000000 Joules\n",
      "22680000\n",
      "The GE train does 22680000 Joules of work over 100 meters. \n"
     ]
    }
   ],
   "source": [
    "train_mass = 22680\n",
    "train_acceleration = 10\n",
    "train_distance = 100\n",
    "\n",
    "bomb_mass = 1\n",
    "def f_to_c(f_temp):\n",
    "  c_temp = (f_temp -32) * 5 / 9\n",
    "  return c_temp\n",
    "f100_in_celsius = f_to_c(100)\n",
    "print(f100_in_celsius)\n",
    "def c_to_f(c_temp):\n",
    "  f_temp = (c_temp ) * (9 / 5) + 32\n",
    "  return f_temp\n",
    "c0_in_f = c_to_f(0)\n",
    "print(c0_in_f)\n",
    "def get_force(mass, acceleration):\n",
    "  force = mass * acceleration \n",
    "  return force\n",
    "train_force = get_force(100, 5.6)\n",
    "print(train_force)\n",
    "print('The GE train supplies ' + str(train_force) + ' Newtons of force')\n",
    "def get_energy(mass, c = 3 * 10 ** 8):\n",
    "  energy = mass * c \n",
    "  return energy\n",
    "bomb_energy = get_energy(bomb_mass)\n",
    "print(bomb_energy)\n",
    "print( 'a 1kg bomb supplies ' + str(bomb_energy) + ' Joules')\n",
    "def get_work(mass, acceleration, distance):\n",
    "  force = mass * acceleration \n",
    "  work = force * distance \n",
    "  return work \n",
    "train_work = get_work(train_mass, train_acceleration, train_distance)\n",
    "print(train_work)\n",
    "print('The GE train does ' + str(train_work) + ' Joules of work over ' + str(train_distance) + ' meters. ')"
   ]
  },
  {
   "cell_type": "code",
   "execution_count": null,
   "metadata": {},
   "outputs": [],
   "source": []
  }
 ],
 "metadata": {
  "kernelspec": {
   "display_name": "Python 3",
   "language": "python",
   "name": "python3"
  },
  "language_info": {
   "codemirror_mode": {
    "name": "ipython",
    "version": 3
   },
   "file_extension": ".py",
   "mimetype": "text/x-python",
   "name": "python",
   "nbconvert_exporter": "python",
   "pygments_lexer": "ipython3",
   "version": "3.7.7"
  }
 },
 "nbformat": 4,
 "nbformat_minor": 4
}
